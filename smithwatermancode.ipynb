{
 "cells": [
  {
   "cell_type": "code",
   "execution_count": 27,
   "metadata": {},
   "outputs": [],
   "source": [
    "import matplotlib.pyplot as plt\n",
    "import numpy as np\n",
    "#import cPickle\n",
    "import sys\n",
    "\n",
    "\n",
    "def revComp(seq):\n",
    "    seq=seq.upper()\n",
    "    seq=seq.replace('A','t')\n",
    "    seq=seq.replace('T','a')\n",
    "    seq=seq.replace('C','g')\n",
    "    seq=seq.replace('G','c')\n",
    "    seq=seq.upper()\n",
    "    seq=seq[::-1]\n",
    "    return seq\n",
    "\n",
    "#stores the repitition counts of seq in a dict\n",
    "def dictIncrement(seq,dictionary):\n",
    "    if seq in dictionary:\n",
    "        dictionary[seq]+=1\n",
    "    else:\n",
    "        dictionary[seq]=1\n",
    "        \n",
    "#lists keys of dict in decreasing order of values\n",
    "def dictSorter(dictionary):\n",
    "    return sorted(dictionary,key=lambda x: dictionary[x], reverse=True)\n",
    "\n",
    "#checks for N in the seq\n",
    "def checkNoN(seq):\n",
    "    seqToCheck=seq.upper()\n",
    "    if 'N' in seqToCheck:\n",
    "        return False\n",
    "    else:\n",
    "        return True\n",
    "\n",
    "class alignedObject:\n",
    "    def __init__(self,alignmentInfo,refUsed,count):\n",
    "        self.alignmentInfo=alignmentInfo\n",
    "        self.refUsed=refUsed\n",
    "        self.count=count\n",
    "\n",
    "class alignmentInfoEvent:\n",
    "    def __init__(self,typeOfEvent,position,notes):\n",
    "        self.typeOfEvent=typeOfEvent\n",
    "        self.position=position\n",
    "        self.notes=notes\n",
    "\n",
    "def printAlignmentInfoList(alignmentInfoList):\n",
    "    listToPrint=[]\n",
    "    for eachEntry in alignmentInfoList:\n",
    "        listToPrint.append((eachEntry.typeOfEvent,eachEntry.position,eachEntry.notes))\n",
    "    print (listToPrint)       \n",
    "\n",
    "#when n=0, if a sequence starts with a diversity base, then behaviour of alignment was to treat that base as an insertion at beginning\n",
    "#thus made n=1 below\n",
    "\n",
    "def smithWaterman(seq1,seq2,m=2,s=-1,d=-2,n=1,collapseInsertions=True): \n",
    "    #m is for matches, s for mismatches, d for gaps, n is for ns in reference--sites where diversity there\n",
    "    seq1=seq1.upper()\n",
    "    seq2=seq2.upper()\n",
    "    dpTable=np.zeros((len(seq1)+1,len(seq2)+1)) #assume seq1 is reference\n",
    "    pointerTable=[]\n",
    "    seqEmitTable=[]\n",
    "    dummyVector=[]\n",
    "    for i in range(0,len(seq2)+1):\n",
    "        dummyVector.append(0)\n",
    "    for j in range(0,len(seq1)+1):\n",
    "        pointerTable.append(list(dummyVector))\n",
    "        seqEmitTable.append(list(dummyVector))\n",
    "    #initialization--not required as everything already set to 0, this is a big change from needlemanWunsch\n",
    "    #update dynamic programming table\n",
    "    for i in range(1,len(seq1)+1):\n",
    "        for j in range(1,len(seq2)+1):\n",
    "            if seq1[i-1]=='N':\n",
    "                subScore=n\n",
    "            else:\n",
    "                if seq1[i-1]==seq2[j-1]:\n",
    "                    subScore=m\n",
    "                else:\n",
    "                    subScore=s\n",
    "            diagScore=dpTable[i-1][j-1]+subScore\n",
    "            topDownScore=dpTable[i-1][j]+d\n",
    "            leftRightScore=dpTable[i][j-1]+d\n",
    "            #add constraint compared to needlemanWunsch that minimum value of each cell is 0 to get smith-waterman\n",
    "            if diagScore>=topDownScore and diagScore>=leftRightScore and diagScore>0:\n",
    "                dpTable[i][j]=diagScore\n",
    "                pointerTable[i][j]=(i-1,j-1)\n",
    "                seqEmitTable[i][j]=(seq1[i-1],seq2[j-1],i-1,j-1)\n",
    "            elif topDownScore>=diagScore and topDownScore>=leftRightScore and topDownScore>0:\n",
    "                dpTable[i][j]=topDownScore\n",
    "                pointerTable[i][j]=(i-1,j)\n",
    "                seqEmitTable[i][j]=(seq1[i-1],'_',i-1,'deletion')\n",
    "            elif leftRightScore>=diagScore and leftRightScore>=topDownScore and leftRightScore>0:\n",
    "                dpTable[i][j]=leftRightScore\n",
    "                pointerTable[i][j]=(i,j-1)\n",
    "                seqEmitTable[i][j]=('_',seq2[j-1],'insertion',j-1)\n",
    "            elif diagScore<=0 and topDownScore<=0 and leftRightScore<=0:\n",
    "                dpTable[i][j]=0\n",
    "                pointerTable[i][j]=0\n",
    "                seqEmitTable[i][j]=0\n",
    "\n",
    "    #construct alignment--first find max value in dpTable\n",
    "    maxIndexTuple=np.unravel_index(np.argmax(dpTable),dpTable.shape)# using convention of finding maximum to resolve any ties in alignment, can refine this later to deal with non-unique alignments, also perhaps later want to see the score for the second best alignment\n",
    "    #print dpTable\n",
    "    #print pointerTable\n",
    "    '''\n",
    "    if dpTable[maxIndexTuple[0]][maxIndexTuple[1]]<=0:\n",
    "        #have a condition to test for this--not required as at least one base should align and hence score should be >0\n",
    "        return\n",
    "    '''\n",
    "    #dpTable[maxIndexTuple[0]][maxIndexTuple[1]] should be alignment score\n",
    "    #alignmentList=[]\n",
    "    alignmentInfo=[]\n",
    "    currentCoordinate=maxIndexTuple\n",
    "    lastPoint=1\n",
    "    while dpTable[currentCoordinate[0]][currentCoordinate[1]]!=0:\n",
    "        relevantSeqEmit=seqEmitTable[currentCoordinate[0]][currentCoordinate[1]]\n",
    "        #alignmentList.append(relevantSeqEmit)\n",
    "        if lastPoint==1:\n",
    "            alignmentInfo.append(alignmentInfoEvent('End',currentCoordinate[0],'')) #end cannot be at an insertion or deletion as it costs points\n",
    "            if currentCoordinate[1]==len(seq2): #no insertion there at 3' end\n",
    "                pass\n",
    "            else:\n",
    "                alignmentInfo.append(alignmentInfoEvent('Insertion',currentCoordinate[0],seq2[currentCoordinate[1]:]))            \n",
    "            lastPoint=0\n",
    "        if relevantSeqEmit[3]=='deletion':\n",
    "            alignmentInfo.append(alignmentInfoEvent('Deletion',currentCoordinate[0],''))\n",
    "        elif relevantSeqEmit[2]=='insertion':\n",
    "            alignmentInfo.append(alignmentInfoEvent('Insertion',currentCoordinate[0],relevantSeqEmit[1]))\n",
    "        else:\n",
    "            if relevantSeqEmit[0]=='N':\n",
    "                alignmentInfo.append(alignmentInfoEvent('Diversity',currentCoordinate[0],relevantSeqEmit[1]))\n",
    "            elif relevantSeqEmit[0]==relevantSeqEmit[1]:\n",
    "                alignmentInfo.append(alignmentInfoEvent('Match',currentCoordinate[0],relevantSeqEmit[1]))\n",
    "            else:\n",
    "                alignmentInfo.append(alignmentInfoEvent('Mismatch',currentCoordinate[0],relevantSeqEmit[1]))\n",
    "        currentCoordinate=pointerTable[currentCoordinate[0]][currentCoordinate[1]]\n",
    "    if currentCoordinate[1]==0: #no insertion there at 5' end\n",
    "        pass\n",
    "    else:\n",
    "        alignmentInfo.append(alignmentInfoEvent('Insertion',currentCoordinate[0],seq2[:currentCoordinate[1]]))\n",
    "    alignmentInfo.append(alignmentInfoEvent('Start',currentCoordinate[0],'')) \n",
    "\n",
    "    alignmentInfo=alignmentInfo[::-1]\n",
    "\n",
    "    if collapseInsertions==True:\n",
    "        #collapse insertions that occur together into one sequence    \n",
    "        newAlignmentInfo=[]\n",
    "        insertionFound=0\n",
    "        insertCoord=0\n",
    "        insertSeq=''    \n",
    "        for eachEl in alignmentInfo:\n",
    "            if eachEl.typeOfEvent=='Insertion':            \n",
    "                insertionFound=1\n",
    "                insertCoord=eachEl.position\n",
    "                insertSeq=insertSeq+eachEl.notes\n",
    "            else:\n",
    "                if insertionFound==1:\n",
    "                    newAlignmentInfo.append(alignmentInfoEvent('Insertion',insertCoord,insertSeq))\n",
    "                    insertCoord=0\n",
    "                    insertSeq=''\n",
    "                    insertionFound=0\n",
    "                newAlignmentInfo.append(eachEl)                    \n",
    "        return [dpTable[maxIndexTuple[0]][maxIndexTuple[1]],newAlignmentInfo]\n",
    "    else:\n",
    "        return [dpTable[maxIndexTuple[0]][maxIndexTuple[1]],alignmentInfo]"
   ]
  },
  {
   "cell_type": "code",
   "execution_count": 28,
   "metadata": {},
   "outputs": [
    {
     "name": "stdout",
     "output_type": "stream",
     "text": [
      "(1, 4)\n",
      "[2.0, [<__main__.alignmentInfoEvent object at 0x113240250>, <__main__.alignmentInfoEvent object at 0x113240df0>, <__main__.alignmentInfoEvent object at 0x1132405b0>, <__main__.alignmentInfoEvent object at 0x113240ac0>]]\n",
      "\n"
     ]
    }
   ],
   "source": [
    "seq1='ATCG'\n",
    "seq2='GCTA'\n",
    "result=smithWaterman(seq1,seq2)\n",
    "print (result)\n",
    "print()"
   ]
  },
  {
   "cell_type": "code",
   "execution_count": 2,
   "metadata": {
    "scrolled": true
   },
   "outputs": [
    {
     "ename": "NameError",
     "evalue": "name 'result' is not defined",
     "output_type": "error",
     "traceback": [
      "\u001b[0;31m---------------------------------------------------------------------------\u001b[0m",
      "\u001b[0;31mNameError\u001b[0m                                 Traceback (most recent call last)",
      "\u001b[0;32m<ipython-input-2-9eb89ba3c760>\u001b[0m in \u001b[0;36m<module>\u001b[0;34m\u001b[0m\n\u001b[0;32m----> 1\u001b[0;31m \u001b[0mprintAlignmentInfoList\u001b[0m\u001b[0;34m(\u001b[0m\u001b[0mresult\u001b[0m\u001b[0;34m[\u001b[0m\u001b[0;36m1\u001b[0m\u001b[0;34m]\u001b[0m\u001b[0;34m[\u001b[0m\u001b[0;36m1\u001b[0m\u001b[0;34m]\u001b[0m\u001b[0;34m)\u001b[0m\u001b[0;34m\u001b[0m\u001b[0;34m\u001b[0m\u001b[0m\n\u001b[0m",
      "\u001b[0;31mNameError\u001b[0m: name 'result' is not defined"
     ]
    }
   ],
   "source": [
    "printAlignmentInfoList(result[1])"
   ]
  },
  {
   "cell_type": "code",
   "execution_count": 1,
   "metadata": {},
   "outputs": [
    {
     "ename": "SyntaxError",
     "evalue": "EOL while scanning string literal (<ipython-input-1-cae90d0d0928>, line 1)",
     "output_type": "error",
     "traceback": [
      "\u001b[0;36m  File \u001b[0;32m\"<ipython-input-1-cae90d0d0928>\"\u001b[0;36m, line \u001b[0;32m1\u001b[0m\n\u001b[0;31m    a='hello\u001b[0m\n\u001b[0m            ^\u001b[0m\n\u001b[0;31mSyntaxError\u001b[0m\u001b[0;31m:\u001b[0m EOL while scanning string literal\n"
     ]
    }
   ],
   "source": [
    "a='hello\n",
    "'"
   ]
  },
  {
   "cell_type": "code",
   "execution_count": 2,
   "metadata": {},
   "outputs": [],
   "source": [
    "a='hello'"
   ]
  },
  {
   "cell_type": "code",
   "execution_count": 3,
   "metadata": {},
   "outputs": [
    {
     "data": {
      "text/plain": [
       "'h'"
      ]
     },
     "execution_count": 3,
     "metadata": {},
     "output_type": "execute_result"
    }
   ],
   "source": [
    "a[0]"
   ]
  },
  {
   "cell_type": "code",
   "execution_count": 5,
   "metadata": {},
   "outputs": [
    {
     "data": {
      "text/plain": [
       "True"
      ]
     },
     "execution_count": 5,
     "metadata": {},
     "output_type": "execute_result"
    }
   ],
   "source": [
    "a[0]=='h'"
   ]
  },
  {
   "cell_type": "code",
   "execution_count": 6,
   "metadata": {},
   "outputs": [
    {
     "data": {
      "text/plain": [
       "False"
      ]
     },
     "execution_count": 6,
     "metadata": {},
     "output_type": "execute_result"
    }
   ],
   "source": [
    "a[0]=='c'"
   ]
  },
  {
   "cell_type": "code",
   "execution_count": 7,
   "metadata": {},
   "outputs": [
    {
     "data": {
      "text/plain": [
       "False"
      ]
     },
     "execution_count": 7,
     "metadata": {},
     "output_type": "execute_result"
    }
   ],
   "source": [
    "[1]==[1,2]"
   ]
  },
  {
   "cell_type": "code",
   "execution_count": 8,
   "metadata": {},
   "outputs": [
    {
     "data": {
      "text/plain": [
       "False"
      ]
     },
     "execution_count": 8,
     "metadata": {},
     "output_type": "execute_result"
    }
   ],
   "source": [
    "[1,'h']==[1,2]"
   ]
  },
  {
   "cell_type": "code",
   "execution_count": 9,
   "metadata": {},
   "outputs": [
    {
     "data": {
      "text/plain": [
       "True"
      ]
     },
     "execution_count": 9,
     "metadata": {},
     "output_type": "execute_result"
    }
   ],
   "source": [
    "[1,2]==[1,2]"
   ]
  },
  {
   "cell_type": "code",
   "execution_count": 10,
   "metadata": {},
   "outputs": [
    {
     "data": {
      "text/plain": [
       "True"
      ]
     },
     "execution_count": 10,
     "metadata": {},
     "output_type": "execute_result"
    }
   ],
   "source": [
    "{1:0}=={1:0}"
   ]
  },
  {
   "cell_type": "code",
   "execution_count": 11,
   "metadata": {},
   "outputs": [],
   "source": [
    "import numpy as np\n",
    "a=np.array([[2,3],[4,5]])"
   ]
  },
  {
   "cell_type": "code",
   "execution_count": 12,
   "metadata": {},
   "outputs": [
    {
     "data": {
      "text/plain": [
       "2"
      ]
     },
     "execution_count": 12,
     "metadata": {},
     "output_type": "execute_result"
    }
   ],
   "source": [
    "a[0][0]"
   ]
  },
  {
   "cell_type": "code",
   "execution_count": 13,
   "metadata": {},
   "outputs": [
    {
     "data": {
      "text/plain": [
       "2"
      ]
     },
     "execution_count": 13,
     "metadata": {},
     "output_type": "execute_result"
    }
   ],
   "source": [
    "a[0,0]"
   ]
  },
  {
   "cell_type": "code",
   "execution_count": 14,
   "metadata": {},
   "outputs": [
    {
     "data": {
      "text/plain": [
       "array([2, 3])"
      ]
     },
     "execution_count": 14,
     "metadata": {},
     "output_type": "execute_result"
    }
   ],
   "source": [
    "a[0]"
   ]
  },
  {
   "cell_type": "code",
   "execution_count": 15,
   "metadata": {},
   "outputs": [
    {
     "ename": "IndexError",
     "evalue": "index 3 is out of bounds for axis 0 with size 2",
     "output_type": "error",
     "traceback": [
      "\u001b[0;31m---------------------------------------------------------------------------\u001b[0m",
      "\u001b[0;31mIndexError\u001b[0m                                Traceback (most recent call last)",
      "\u001b[0;32m<ipython-input-15-f75b6be7d8e3>\u001b[0m in \u001b[0;36m<module>\u001b[0;34m\u001b[0m\n\u001b[0;32m----> 1\u001b[0;31m \u001b[0ma\u001b[0m\u001b[0;34m[\u001b[0m\u001b[0;36m3\u001b[0m\u001b[0;34m]\u001b[0m\u001b[0;34m\u001b[0m\u001b[0;34m\u001b[0m\u001b[0m\n\u001b[0m",
      "\u001b[0;31mIndexError\u001b[0m: index 3 is out of bounds for axis 0 with size 2"
     ]
    }
   ],
   "source": [
    "a[3]"
   ]
  },
  {
   "cell_type": "code",
   "execution_count": 16,
   "metadata": {},
   "outputs": [
    {
     "data": {
      "text/plain": [
       "array([[2, 3],\n",
       "       [4, 5]])"
      ]
     },
     "execution_count": 16,
     "metadata": {},
     "output_type": "execute_result"
    }
   ],
   "source": [
    "a[:]"
   ]
  },
  {
   "cell_type": "code",
   "execution_count": 17,
   "metadata": {},
   "outputs": [
    {
     "data": {
      "text/plain": [
       "array([[2, 3],\n",
       "       [4, 5]])"
      ]
     },
     "execution_count": 17,
     "metadata": {},
     "output_type": "execute_result"
    }
   ],
   "source": [
    "a[::]"
   ]
  },
  {
   "cell_type": "code",
   "execution_count": 18,
   "metadata": {},
   "outputs": [
    {
     "data": {
      "text/plain": [
       "array([2, 3, 4, 5])"
      ]
     },
     "execution_count": 18,
     "metadata": {},
     "output_type": "execute_result"
    }
   ],
   "source": [
    "a.flatten()"
   ]
  },
  {
   "cell_type": "code",
   "execution_count": 19,
   "metadata": {},
   "outputs": [
    {
     "ename": "TypeError",
     "evalue": "order not understood",
     "output_type": "error",
     "traceback": [
      "\u001b[0;31m---------------------------------------------------------------------------\u001b[0m",
      "\u001b[0;31mTypeError\u001b[0m                                 Traceback (most recent call last)",
      "\u001b[0;32m<ipython-input-19-b9ac9e60ca30>\u001b[0m in \u001b[0;36m<module>\u001b[0;34m\u001b[0m\n\u001b[0;32m----> 1\u001b[0;31m \u001b[0ma\u001b[0m\u001b[0;34m.\u001b[0m\u001b[0mflatten\u001b[0m\u001b[0;34m(\u001b[0m\u001b[0morder\u001b[0m\u001b[0;34m=\u001b[0m\u001b[0;34m'R'\u001b[0m\u001b[0;34m)\u001b[0m\u001b[0;34m\u001b[0m\u001b[0;34m\u001b[0m\u001b[0m\n\u001b[0m",
      "\u001b[0;31mTypeError\u001b[0m: order not understood"
     ]
    }
   ],
   "source": [
    "a.flatten(order='R')"
   ]
  },
  {
   "cell_type": "code",
   "execution_count": 20,
   "metadata": {},
   "outputs": [
    {
     "data": {
      "text/plain": [
       "array([2, 4, 3, 5])"
      ]
     },
     "execution_count": 20,
     "metadata": {},
     "output_type": "execute_result"
    }
   ],
   "source": [
    "a.flatten(order='F')"
   ]
  },
  {
   "cell_type": "code",
   "execution_count": 21,
   "metadata": {},
   "outputs": [
    {
     "data": {
      "text/plain": [
       "array([2, 4])"
      ]
     },
     "execution_count": 21,
     "metadata": {},
     "output_type": "execute_result"
    }
   ],
   "source": [
    "a[:,0]"
   ]
  },
  {
   "cell_type": "code",
   "execution_count": 22,
   "metadata": {},
   "outputs": [
    {
     "data": {
      "text/plain": [
       "array([4, 5])"
      ]
     },
     "execution_count": 22,
     "metadata": {},
     "output_type": "execute_result"
    }
   ],
   "source": [
    "a[1]"
   ]
  },
  {
   "cell_type": "code",
   "execution_count": 23,
   "metadata": {},
   "outputs": [
    {
     "data": {
      "text/plain": [
       "array([2, 3])"
      ]
     },
     "execution_count": 23,
     "metadata": {},
     "output_type": "execute_result"
    }
   ],
   "source": [
    "a[0]"
   ]
  },
  {
   "cell_type": "code",
   "execution_count": 24,
   "metadata": {},
   "outputs": [
    {
     "data": {
      "text/plain": [
       "(1, 1)"
      ]
     },
     "execution_count": 24,
     "metadata": {},
     "output_type": "execute_result"
    }
   ],
   "source": [
    "np.unravel_index(3,a.shape)"
   ]
  },
  {
   "cell_type": "code",
   "execution_count": 25,
   "metadata": {},
   "outputs": [
    {
     "data": {
      "text/plain": [
       "(2, 2)"
      ]
     },
     "execution_count": 25,
     "metadata": {},
     "output_type": "execute_result"
    }
   ],
   "source": [
    "a.shape"
   ]
  },
  {
   "cell_type": "code",
   "execution_count": 29,
   "metadata": {},
   "outputs": [],
   "source": [
    "a='hello'"
   ]
  },
  {
   "cell_type": "code",
   "execution_count": 30,
   "metadata": {},
   "outputs": [
    {
     "data": {
      "text/plain": [
       "'e'"
      ]
     },
     "execution_count": 30,
     "metadata": {},
     "output_type": "execute_result"
    }
   ],
   "source": [
    "a[1]"
   ]
  },
  {
   "cell_type": "code",
   "execution_count": 34,
   "metadata": {},
   "outputs": [
    {
     "data": {
      "text/plain": [
       "'hello'"
      ]
     },
     "execution_count": 34,
     "metadata": {},
     "output_type": "execute_result"
    }
   ],
   "source": [
    "a[:]"
   ]
  },
  {
   "cell_type": "code",
   "execution_count": null,
   "metadata": {},
   "outputs": [],
   "source": []
  }
 ],
 "metadata": {
  "kernelspec": {
   "display_name": "Python 3",
   "language": "python",
   "name": "python3"
  },
  "language_info": {
   "codemirror_mode": {
    "name": "ipython",
    "version": 3
   },
   "file_extension": ".py",
   "mimetype": "text/x-python",
   "name": "python",
   "nbconvert_exporter": "python",
   "pygments_lexer": "ipython3",
   "version": "3.8.2"
  }
 },
 "nbformat": 4,
 "nbformat_minor": 4
}
